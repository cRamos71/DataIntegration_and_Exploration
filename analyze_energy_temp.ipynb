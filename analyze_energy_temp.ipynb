{
 "cells": [
  {
   "cell_type": "markdown",
   "metadata": {},
   "source": [
    "# NYC Energy Load and Weather Analysis\n",
    "This notebook analyzes the relationship between NYC energy load and weather data."
   ]
  },
  {
   "cell_type": "code",
   "execution_count": null,
   "metadata": {},
   "outputs": [],
   "source": [
    "import pandas as pd\n",
    "import numpy as np\n",
    "import matplotlib.pyplot as plt\n",
    "import seaborn as sns\n",
    "from statsmodels.tsa.seasonal import seasonal_decompose\n",
    "from sklearn.linear_model import LinearRegression"
   ]
  },
  {
   "cell_type": "markdown",
   "metadata": {},
   "source": [
    "## Load Data\n",
    "Load the weather and energy load data from CSV files."
   ]
  },
  {
   "cell_type": "code",
   "execution_count": null,
   "metadata": {},
   "outputs": [],
   "source": [
    "weather_fp = \"F:/TraeProjects/DataIntegration_and_Exploration/NYCWeatherData/New York Weather Data.csv\"\n",
    "load_fp    = \"F:/TraeProjects/DataIntegration_and_Exploration/NYCEnergyLoad/OASIS_Real_Time_Dispatch_Actual_Load.csv\"\n",
    "\n",
    "weather_raw = pd.read_csv(\n",
    "    weather_fp,\n",
    "    parse_dates=[\"DATE\"],\n",
    "    low_memory=False\n",
    ")\n",
    "\n",
    "load = pd.read_csv(\n",
    "    load_fp,\n",
    "    parse_dates=[\"RTD End Time Stamp\"],\n",
    "    usecols=[\"RTD End Time Stamp\",\"RTD Actual Load\"]\n",
    ").rename(columns={\"RTD End Time Stamp\":\"datetime\",\"RTD Actual Load\":\"load_mw\"})"
   ]
  },
  {
   "cell_type": "markdown",
   "metadata": {},
   "source": [
    "## Data Preprocessing\n",
    "Process the data to extract daily summaries and merge datasets."
   ]
  },
  {
   "cell_type": "code",
   "execution_count": null,
   "metadata": {},
   "outputs": [],
   "source": [
    "mask = weather_raw[\"DailyAverageDryBulbTemperature\"].notna()\n",
    "weather_daily = weather_raw.loc[mask, [\n",
    "    \"DATE\",\n",
    "    \"DailyAverageDryBulbTemperature\",\n",
    "    \"DailyAverageRelativeHumidity\"\n",
    "]].rename(columns={\n",
    "    \"DailyAverageDryBulbTemperature\": \"avg_temp_f\",\n",
    "    \"DailyAverageRelativeHumidity\":  \"avg_humidity_pct\"\n",
    "})\n",
    "\n",
    "weather_daily[\"date\"] = weather_daily[\"DATE\"].dt.date\n",
    "weather_daily = weather_daily.groupby(\"date\", as_index=True).first()\n",
    "weather_daily.index = pd.to_datetime(weather_daily.index)\n",
    "\n",
    "load[\"date\"] = load[\"datetime\"].dt.date\n",
    "load_daily = load.groupby(\"date\", as_index=True)[\"load_mw\"].max()\n",
    "load_daily.index = pd.to_datetime(load_daily.index)\n",
    "\n",
    "df_daily = pd.concat([\n",
    "    weather_daily[[\"avg_temp_f\",\"avg_humidity_pct\"]],\n",
    "    load_daily.rename(\"daily_max_load_mw\")\n",
    "], axis=1, join=\"inner\")\n",
    "\n",
    "df_daily = df_daily.reset_index().rename(columns={\"index\":\"date\"})"
   ]
  },
  {
   "cell_type": "markdown",
   "metadata": {},
   "source": [
    "## Exploratory Data Analysis (EDA)\n",
    "Perform EDA to understand the data better."
   ]
  },
  {
   "cell_type": "code",
   "execution_count": null,
   "metadata": {},
   "outputs": [],
   "source": [
    "print(\"\nSummary statistics:\n\", df_daily.describe())\n",
    "\n",
    "fig, ax1 = plt.subplots(figsize=(12,4))\n",
    "ax1.plot(df_daily[\"date\"], df_daily[\"daily_max_load_mw\"], label=\"Daily Max Load (MW)\")\n",
    "ax2 = ax1.twinx()\n",
    "ax2.plot(df_daily[\"date\"], df_daily[\"avg_temp_f\"], color=\"orange\", label=\"Avg Temp (°F)\")\n",
    "ax1.set_xlabel(\"Date\")\n",
    "ax1.set_ylabel(\"Load (MW)\")\n",
    "ax2.set_ylabel(\"Temp (°F)\")\n",
    "fig.suptitle(\"Daily Peak Load vs. Average Temperature\")\n",
    "fig.legend(loc=\"upper left\", bbox_to_anchor=(0.1,0.9))\n",
    "plt.show()\n",
    "\n",
    "sns.pairplot(df_daily, vars=[\"avg_temp_f\",\"avg_humidity_pct\",\"daily_max_load_mw\"])\n",
    "plt.suptitle(\"Pairplot of Weather vs. Load\", y=1.02)\n",
    "plt.show()\n",
    "\n",
    "corr = df_daily[[\"avg_temp_f\",\"avg_humidity_pct\",\"daily_max_load_mw\"]].corr()\n",
    "sns.heatmap(corr, annot=True, cmap=\"coolwarm\")\n",
    "plt.title(\"Correlation Matrix\")\n",
    "plt.show()"
   ]
  },
  {
   "cell_type": "markdown",
   "metadata": {},
   "source": [
    "## Trend Analysis\n",
    "Decompose the daily peak load to identify trends and seasonal patterns."
   ]
  },
  {
   "cell_type": "code",
   "execution_count": null,
   "metadata": {},
   "outputs": [],
   "source": [
    "ts = df_daily.set_index(\"date\")[\"daily_max_load_mw\"]\n",
    "decomp = seasonal_decompose(ts, model=\"additive\", period=7)\n",
    "decomp.trend.plot(title=\"Trend Component of Daily Peak Load\"); plt.show()\n",
    "decomp.seasonal.plot(title=\"Seasonal Component (Weekly)\"); plt.show()\n",
    "decomp.resid.plot(title=\"Residual Component of Daily Peak Load\"); plt.show()"
   ]
  },
  {
   "cell_type": "markdown",
   "metadata": {},
   "source": [
    "## Regression Analysis\n",
    "Perform a simple regression analysis to understand the relationship between load, temperature, and humidity."
   ]
  },
  {
   "cell_type": "code",
   "execution_count": null,
   "metadata": {},
   "outputs": [],
   "source": [
    "X = df_daily[[\"avg_temp_f\",\"avg_humidity_pct\"]]\n",
    "y = df_daily[\"daily_max_load_mw\"]\n",
    "\n",
    "df_daily = df_daily.dropna()
    lr = LinearRegression().fit(X, y)\n",
    "print(\"Regression coefficients:\", dict(zip(X.columns, lr.coef_)))\n",
    "print(\"Intercept:\", lr.intercept_)\n",
    "print(\"R² score:\", lr.score(X,y))\n",
    "\n",
    "temp_range = np.linspace(X[\"avg_temp_f\"].min(), X[\"avg_temp_f\"].max(), 100)\n",
    "humid_mean = X[\"avg_humidity_pct\"].mean()\n",
    "y_pred = lr.intercept_ + lr.coef_[0]*temp_range + lr.coef_[1]*humid_mean\n",
    "\n",
    "plt.figure(figsize=(8,4))\n",
    "plt.scatter(df_daily[\"avg_temp_f\"], y, alpha=0.6, label=\"Actual\")\n",
    "plt.plot(temp_range, y_pred, color=\"red\", label=\"Fit @ avg humidity\")\n",
    "plt.xlabel(\"Avg Temp (°F)\")\n",
    "plt.ylabel(\"Daily Max Load (MW)\")\n",
    "plt.title(\"Linear Fit: Load vs. Temp\")\n",
    "plt.legend()\n",
    "plt.show()"
   ]
  }
 ],
 "metadata": {
  "kernelspec": {
   "display_name": "Python 3",
   "language": "python",
   "name": "python3"
  },
  "language_info": {
   "codemirror_mode": {
    "name": "ipython",
    "version": 3
   },
   "file_extension": ".py",
   "mimetype": "text/x-python",
   "name": "python",
   "nbconvert_exporter": "python",
   "pygments_lexer": "ipython3",
   "version": "3.8.5"
  }
 },
 "nbformat": 4,
 "nbformat_minor": 5
}