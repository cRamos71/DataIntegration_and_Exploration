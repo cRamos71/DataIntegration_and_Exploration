{
 "cells": [
  {
   "cell_type": "markdown",
   "metadata": {},
   "source": [
    "# NYC Energy Load and Weather Analysis\n",
    "\n",
    "This notebook analyzes the relationship between weather conditions and energy load in New York City."
   ]
  },
  {
   "cell_type": "code",
   "execution_count": null,
   "metadata": {},
   "outputs": [],
   "source": [
    "import pandas as pd\n",
    "import numpy as np\n",
    "import matplotlib.pyplot as plt\n",
    "import seaborn as sns\n",
    "import holidays\n",
    "from statsmodels.tsa.seasonal import seasonal_decompose\n",
    "from sklearn.linear_model import LinearRegression\n",
    "from pathlib import Path\n",
    "\n",
    "# Set up plotting style\n",
    "#plt.style.use('seaborn')\n",
    "#%matplotlib inline"
   ]
  },
  {
   "cell_type": "markdown",
   "metadata": {},
   "source": [
    "## 1. Data Loading and Preprocessing\n",
    "\n",
    "First, we'll load our weather and energy load data from CSV files."
   ]
  },
  {
   "cell_type": "code",
   "execution_count": null,
   "metadata": {},
   "outputs": [],
   "source": [
    "# Filepaths\n",
    "base_dir = Path.cwd()\n",
    "weather_fp = str(base_dir / \"NYCWeatherData/New York Weather Data.csv\")\n",
    "load_fp = str(base_dir / \"NYCEnergyLoad/OASIS_Real_Time_Dispatch_Actual_Load.csv\")\n",
    "\n",
    "# Load weather data\n",
    "weather_raw = pd.read_csv(\n",
    "    weather_fp,\n",
    "    parse_dates=[\"DATE\"],\n",
    "    low_memory=False\n",
    ")"
   ]
  },
  {
   "cell_type": "markdown",
   "metadata": {},
   "source": [
    "### Process Weather Data"
   ]
  },
  {
   "cell_type": "code",
   "execution_count": null,
   "metadata": {},
   "outputs": [],
   "source": [
    "# Extract daily weather summaries\n",
    "mask = weather_raw[\"DailyAverageDryBulbTemperature\"].notna()\n",
    "weather_daily = weather_raw.loc[mask, [\n",
    "    \"DATE\",\n",
    "    \"DailyAverageDryBulbTemperature\",\n",
    "    \"DailyAverageRelativeHumidity\"\n",
    "]].rename(columns={\n",
    "    \"DailyAverageDryBulbTemperature\": \"avg_temp_f\",\n",
    "    \"DailyAverageRelativeHumidity\":  \"avg_humidity_pct\"\n",
    "})\n",
    "\n",
    "weather_daily[\"date\"] = weather_daily[\"DATE\"].dt.date\n",
    "weather_daily = weather_daily.groupby(\"date\", as_index=True).first()\n",
    "weather_daily.index = pd.to_datetime(weather_daily.index)"
   ]
  },
  {
   "cell_type": "markdown",
   "metadata": {},
   "source": [
    "### Process Load Data"
   ]
  },
  {
   "cell_type": "code",
   "execution_count": null,
   "metadata": {},
   "outputs": [],
   "source": [
    "# Load and process NYISO load data\n",
    "load = pd.read_csv(\n",
    "    load_fp,\n",
    "    parse_dates=[\"RTD End Time Stamp\"],\n",
    "    usecols=[\"RTD End Time Stamp\",\"RTD Actual Load\"]\n",
    ").rename(columns={\"RTD End Time Stamp\":\"datetime\",\"RTD Actual Load\":\"load_mw\"})\n",
    "\n",
    "load[\"date\"] = load[\"datetime\"].dt.date\n",
    "load_daily = load.groupby(\"date\", as_index=True)[\"load_mw\"].max()\n",
    "load_daily.index = pd.to_datetime(load_daily.index)"
   ]
  },
  {
   "cell_type": "markdown",
   "metadata": {},
   "source": [
    "## 2. Data Integration and Feature Engineering"
   ]
  },
  {
   "cell_type": "code",
   "execution_count": null,
   "metadata": {},
   "outputs": [],
   "source": [
    "# Merge weather and load data\n",
    "df_daily = pd.concat([\n",
    "    weather_daily[[\"avg_temp_f\",\"avg_humidity_pct\"]],\n",
    "    load_daily.rename(\"daily_max_load_mw\")\n",
    "], axis=1, join=\"inner\")\n",
    "\n",
    "# Reset index and add weekend/holiday features\n",
    "df_daily = df_daily.reset_index().rename(columns={\"index\":\"date\"})\n",
    "df_daily[\"is_weekend\"] = df_daily[\"date\"].dt.weekday >= 5\n",
    "us_holidays = holidays.US(years=df_daily[\"date\"].dt.year.unique().tolist())\n",
    "df_daily[\"is_holiday\"] = df_daily[\"date\"].isin(us_holidays)\n",
    "df_daily = pd.get_dummies(df_daily, columns=[\"is_weekend\", \"is_holiday\"], drop_first=True)"
   ]
  },
  {
   "cell_type": "markdown",
   "metadata": {},
   "source": [
    "## 3. Basic Statistics"
   ]
  },
  {
   "cell_type": "code",
   "execution_count": null,
   "metadata": {},
   "outputs": [],
   "source": [
    "# Calculate key statistics\n",
    "stats = {\n",
    "    \"Max daily load\": df_daily[\"daily_max_load_mw\"].max(),\n",
    "    \"Max daily temperature\": df_daily[\"avg_temp_f\"].max(),\n",
    "    \"Max daily humidity\": df_daily[\"avg_humidity_pct\"].max(),\n",
    "    \"Average daily temperature\": df_daily[\"avg_temp_f\"].mean(),\n",
    "    \"Average daily humidity\": df_daily[\"avg_humidity_pct\"].mean(),\n",
    "    \"Average daily load\": df_daily[\"daily_max_load_mw\"].mean(),\n",
    "    \"Weekend average load\": df_daily[df_daily[\"is_weekend_True\"]][\"daily_max_load_mw\"].mean(),\n",
    "    \"Holiday average load\": df_daily[df_daily[\"is_holiday_True\"]][\"daily_max_load_mw\"].mean()\n",
    "}\n",
    "\n",
    "for key, value in stats.items():\n",
    "    print(f\"{key}: {value:.2f}\")"
   ]
  },
  {
   "cell_type": "markdown",
   "metadata": {},
   "source": [
    "## 4. Data Quality Check and Cleaning"
   ]
  },
  {
   "cell_type": "code",
   "execution_count": null,
   "metadata": {},
   "outputs": [],
   "source": [
    "# Check for missing values\n",
    "print(\"Missing values per column:\\n\", df_daily.isna().sum())\n",
    "\n",
    "# Drop any days with missing data\n",
    "df_daily = df_daily.dropna()\n",
    "\n",
    "# Handle outliers using IQR method\n",
    "for col in [\"avg_temp_f\", \"avg_humidity_pct\", \"daily_max_load_mw\"]:\n",
    "    Q1 = df_daily[col].quantile(0.25)\n",
    "    Q3 = df_daily[col].quantile(0.75)\n",
    "    IQR = Q3 - Q1\n",
    "    lower, upper = Q1 - 1.5 * IQR, Q3 + 1.5 * IQR\n",
    "    print(f\"{col}: clipping to [{lower:.1f}, {upper:.1f}]\")\n",
    "    df_daily[col] = df_daily[col].clip(lower, upper)"
   ]
  },
  {
   "cell_type": "markdown",
   "metadata": {},
   "source": [
    "## 5. Exploratory Data Analysis"
   ]
  },
  {
   "cell_type": "code",
   "execution_count": null,
   "metadata": {},
   "outputs": [],
   "source": [
    "# Time series plot\n",
    "fig, ax1 = plt.subplots(figsize=(12,4))\n",
    "ax1.plot(df_daily[\"date\"], df_daily[\"daily_max_load_mw\"], label=\"Daily Max Load (MW)\")\n",
    "ax2 = ax1.twinx()\n",
    "ax2.plot(df_daily[\"date\"], df_daily[\"avg_temp_f\"], color=\"orange\", label=\"Avg Temp (°F)\")\n",
    "ax1.set_xlabel(\"Date\")\n",
    "ax1.set_ylabel(\"Load (MW)\")\n",
    "ax2.set_ylabel(\"Temp (°F)\")\n",
    "fig.suptitle(\"Daily Peak Load vs. Average Temperature\")\n",
    "fig.legend(loc=\"upper left\", bbox_to_anchor=(0.1,0.9))\n",
    "plt.show()"
   ]
  },
  {
   "cell_type": "code",
   "execution_count": null,
   "metadata": {},
   "outputs": [],
   "source": [
    "# Correlation analysis\n",
    "sns.pairplot(df_daily, vars=[\"avg_temp_f\",\"avg_humidity_pct\",\"daily_max_load_mw\"])\n",
    "plt.suptitle(\"Pairplot of Weather vs. Load\", y=1.02)\n",
    "plt.show()\n",
    "\n",
    "corr = df_daily[[\"avg_temp_f\",\"avg_humidity_pct\",\"daily_max_load_mw\"]].corr()\n",
    "sns.heatmap(corr, annot=True, cmap=\"coolwarm\")\n",
    "plt.title(\"Correlation Matrix\")\n",
    "plt.show()"
   ]
  },
  {
   "cell_type": "markdown",
   "metadata": {},
   "source": [
    "## 6. Time Series Decomposition"
   ]
  },
  {
   "cell_type": "code",
   "execution_count": null,
   "metadata": {},
   "outputs": [],
   "source": [
    "# Decompose the time series\n",
    "ts = df_daily.set_index(\"date\")[\"daily_max_load_mw\"]\n",
    "decomp = seasonal_decompose(ts, model=\"additive\", period=7)\n",
    "\n",
    "fig, (ax1, ax2, ax3) = plt.subplots(3, 1, figsize=(12, 10))\n",
    "decomp.trend.plot(ax=ax1, title=\"Trend Component\")\n",
    "decomp.seasonal.plot(ax=ax2, title=\"Seasonal Component (Weekly)\")\n",
    "decomp.resid.plot(ax=ax3, title=\"Residual Component\")\n",
    "plt.tight_layout()\n",
    "plt.show()"
   ]
  },
  {
   "cell_type": "markdown",
   "metadata": {},
   "source": [
    "## 7. Linear Regression Analysis"
   ]
  },
  {
   "cell_type": "code",
   "execution_count": null,
   "metadata": {},
   "outputs": [],
   "source": [
    "# Fit linear regression model\n",
    "X = df_daily[[\"avg_temp_f\",\"avg_humidity_pct\"]]\n",
    "y = df_daily[\"daily_max_load_mw\"]\n",
    "\n",
    "lr = LinearRegression().fit(X, y)\n",
    "print(\"Regression coefficients:\", dict(zip(X.columns, lr.coef_)))\n",
    "print(\"Intercept:\", lr.intercept_)\n",
    "print(\"R² score:\", lr.score(X,y))\n",
    "\n",
    "# Plot regression line\n",
    "temp_range = np.linspace(X[\"avg_temp_f\"].min(), X[\"avg_temp_f\"].max(), 100)\n",
    "humid_mean = X[\"avg_humidity_pct\"].mean()\n",
    "y_pred = lr.intercept_ + lr.coef_[0]*temp_range + lr.coef_[1]*humid_mean\n",
    "\n",
    "plt.figure(figsize=(8,4))\n",
    "plt.scatter(df_daily[\"avg_temp_f\"], y, alpha=0.6, label=\"Actual\")\n",
    "plt.plot(temp_range, y_pred, color=\"red\", label=\"Fit @ avg humidity\")\n",
    "plt.xlabel(\"Avg Temp (°F)\")\n",
    "plt.ylabel(\"Daily Max Load (MW)\")\n",
    "plt.title(\"Linear Fit: Load vs. Temp\")\n",
    "plt.legend()\n",
    "plt.show()"
   ]
  }
 ],
 "metadata": {
  "kernelspec": {
   "display_name": "Python 3",
   "language": "python",
   "name": "python3"
  },
  "language_info": {
   "codemirror_mode": {
    "name": "ipython",
    "version": 3
   },
   "file_extension": ".py",
   "mimetype": "text/x-python",
   "name": "python",
   "nbconvert_exporter": "python",
   "pygments_lexer": "ipython3",
   "version": "3.8.0"
  }
 },
 "nbformat": 4,
 "nbformat_minor": 4
}
